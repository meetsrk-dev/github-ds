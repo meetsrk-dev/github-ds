{
    "metadata": {
        "kernelspec": {
            "name": "SQL",
            "display_name": "SQL",
            "language": "sql"
        },
        "language_info": {
            "name": "sql",
            "version": ""
        }
    },
    "nbformat_minor": 2,
    "nbformat": 4,
    "cells": [
        {
            "cell_type": "markdown",
            "source": [
                "**Introduction**"
            ],
            "metadata": {
                "azdata_cell_guid": "9b39a10d-c12e-4967-ace2-bef1d09a328d"
            }
        },
        {
            "cell_type": "markdown",
            "source": [
                "The New York city, is the most populous city in the United States. \r\n",
                "It is diverse and is the financial capital of USA. It is multicultural. \r\n",
                "It provides lot of business oppourtunities and business friendly environment. \r\n",
                "It is a global hub of business and commerce. \r\n",
                "\r\n",
                "The city is a major center for banking and finance, retailing, world trade, transportation, tourism, real estate, new media, traditional media, advertising, legal services, accountancy, insurance, theater, fashion, and the arts in the United States. This also means that the market is highly competitive. As it is highly developed city so cost of doing business is also one of the highest.\r\n",
                "\r\n",
                "The insights derived from analysis will give good understanding of the business environment which help in strategically targeting the market. \r\n",
                "This will help in reduction of risk. And the Return On Investment will be reasonable."
            ],
            "metadata": {
                "azdata_cell_guid": "a31dfc1a-99bc-42c9-8e63-83d16b56f475"
            }
        },
        {
            "cell_type": "markdown",
            "source": [
                "**Business problem**"
            ],
            "metadata": {
                "azdata_cell_guid": "24ea26a9-273d-4ef7-81ef-81d8717d3267"
            }
        },
        {
            "cell_type": "markdown",
            "source": [
                "The New York city is famous for its excellent cuisine. It's food culture includes an array of international cuisines influenced by the city's immigrant history.\r\n",
                "\r\n",
                "Asian restaurants have become so popular in the United States now it seems that there is one on every corner, not only in major cities but also in smaller cities. Starting a Asian restaurant can be a great business opportunity, but you need to distinguish yourself from others to enjoy long-term success."
            ],
            "metadata": {
                "azdata_cell_guid": "48236460-b510-4f89-8e21-d8380a603ce8"
            }
        },
        {
            "cell_type": "markdown",
            "source": [
                "**Find a suitable location.**"
            ],
            "metadata": {
                "azdata_cell_guid": "019272fe-47ce-48d5-8d52-9a194409f280"
            }
        },
        {
            "cell_type": "markdown",
            "source": [
                "To plan a cheap buffet restaurant, points to the masses looking for affordable high-traffic locations with large shopping centers and other local points of interest. So it is evident that to survive in such competitive market it is very important to startegically plan. Various factors need to be studied inorder to decide on the Location"
            ],
            "metadata": {
                "azdata_cell_guid": "e04f081d-0e88-4479-9f98-08300e65fae8"
            }
        },
        {
            "cell_type": "markdown",
            "source": [
                "**Target Audience**"
            ],
            "metadata": {
                "azdata_cell_guid": "84b1a1a6-b905-4b23-bb1f-cc491525e3e4"
            }
        },
        {
            "cell_type": "markdown",
            "source": [
                "My Customer wants to open his business in Manhattan area, so I only focus on that borough during my analysis. The objective is to locate and recommend to the management which neighborhood of Newyork city will be best choice to start a restaurant. The Management also expects to understand the rationale of the recommendations made."
            ],
            "metadata": {
                "azdata_cell_guid": "c2110b38-bc29-491d-b73b-0813327fe0f7"
            }
        }
    ]
}