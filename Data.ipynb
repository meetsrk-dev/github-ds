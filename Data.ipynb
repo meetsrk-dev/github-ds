{
    "metadata": {
        "kernelspec": {
            "name": "SQL",
            "display_name": "SQL",
            "language": "sql"
        },
        "language_info": {
            "name": "sql",
            "version": ""
        }
    },
    "nbformat_minor": 2,
    "nbformat": 4,
    "cells": [
        {
            "cell_type": "markdown",
            "source": [
                "**Data**"
            ],
            "metadata": {
                "azdata_cell_guid": "e9c23675-45bb-4fe0-84b4-679a7c5cb6e4"
            }
        },
        {
            "cell_type": "markdown",
            "source": [
                "To find the best location for our Asian Restaurant, we will use the following sources of information:\r\n",
                "\r\n",
                "Newyork has a total of 5 boroughs and 306 neighborhoods. In order to segement the neighborhoods and explore them, we will essentially need a dataset that contains the 5 boroughs and the neighborhoods that exist in each borough as well as the the latitude and logitude coordinates of each neighborhood."
            ],
            "metadata": {
                "azdata_cell_guid": "ca046707-f4c8-49ca-9dcd-4f75531ff824"
            }
        },
        {
            "cell_type": "markdown",
            "source": [
                "The dataset exists for free on the web. Feel free to try to find this dataset on your own, but here is the link to the dataset: https://geo.nyu.edu/catalog/nyu_2451_34572"
            ],
            "metadata": {
                "azdata_cell_guid": "45ebf1e6-eeb5-4212-83ec-1830c9e1fe1a"
            }
        },
        {
            "cell_type": "markdown",
            "source": [
                "From Foursquare Venues Categories - https://developer.foursquare.com/docs/resources/categories\r\n",
                "\r\n",
                "Asian Restaurant Id - 4bf58dd8d48988d142941735"
            ],
            "metadata": {
                "azdata_cell_guid": "9bf362d3-80b8-4382-a8a0-07efeb0bd2a1"
            }
        }
    ]
}