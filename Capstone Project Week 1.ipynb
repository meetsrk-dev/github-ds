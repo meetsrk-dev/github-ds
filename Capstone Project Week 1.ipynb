{
    "metadata": {
        "kernelspec": {
            "name": "python3",
            "display_name": "Python 3"
        },
        "language_info": {
            "name": "python",
            "version": "3.6.6",
            "mimetype": "text/x-python",
            "codemirror_mode": {
                "name": "ipython",
                "version": 3
            },
            "pygments_lexer": "ipython3",
            "nbconvert_exporter": "python",
            "file_extension": ".py"
        }
    },
    "nbformat_minor": 2,
    "nbformat": 4,
    "cells": [
        {
            "cell_type": "markdown",
            "source": [
                "**Capstone Project Week 1**"
            ],
            "metadata": {
                "azdata_cell_guid": "0b6457cb-6d69-4318-8577-ea477b35b0b0"
            }
        },
        {
            "cell_type": "code",
            "source": [
                "import pandas as pd\r\n",
                "import numpy as np\r\n",
                "\r\n",
                "print(\"Hello Capstone Project Course!\")"
            ],
            "metadata": {
                "azdata_cell_guid": "01b5f3c4-c96f-4121-9fb2-24b21e605cf3"
            },
            "outputs": [
                {
                    "name": "stdout",
                    "text": "Hello Capstone Project Course!\n",
                    "output_type": "stream"
                }
            ],
            "execution_count": 6
        }
    ]
}